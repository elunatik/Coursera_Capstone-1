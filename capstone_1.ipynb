{
 "cells": [
  {
   "cell_type": "markdown",
   "metadata": {},
   "source": [
    "<body>Import necessary packages </body>\n",
    "\n"
   ]
  },
  {
   "cell_type": "code",
   "execution_count": 25,
   "metadata": {},
   "outputs": [],
   "source": [
    "import pandas as pd\n",
    "import bs4\n",
    "from bs4 import BeautifulSoup\n",
    "import requests"
   ]
  },
  {
   "cell_type": "markdown",
   "metadata": {},
   "source": [
    "<body> Get data from the website and store it in a dataframe. Remove the data with does not match the required format</body>"
   ]
  },
  {
   "cell_type": "code",
   "execution_count": 27,
   "metadata": {},
   "outputs": [],
   "source": [
    "\n",
    "columns=list(['PostalCode', 'Borough', 'Neighborhood'])\n",
    "df= pd.DataFrame(columns=columns)\n",
    "url =\"https://en.wikipedia.org/wiki/List_of_postal_codes_of_Canada:_M\"\n",
    "result = requests.get(url).text\n",
    "soup = BeautifulSoup(result, 'html.parser')\n",
    "table=soup.table.tbody\n",
    "valid_bor=list()\n",
    "for sibling in table.children:\n",
    "    if (type(sibling)!= bs4.element.NavigableString):\n",
    "        l=[]\n",
    "        for i in sibling.find_all('td'):\n",
    "            l.append(i.text)\n",
    "            \n",
    "        if len(l)==3 and str(l[1])!='Not assigned':\n",
    "            if l[2][0:-1] =='Not assigned':\n",
    "                l[2]=l[1]+'-'\n",
    "            valid_bor.append(pd.Series([l[0],l[1],l[2][0:-1]], index=df.columns))\n",
    "               \n",
    "df=df.append(valid_bor,ignore_index=True)\n"
   ]
  },
  {
   "cell_type": "markdown",
   "metadata": {},
   "source": [
    "<body> Groupby Postal code and group the Neighbourhoods <body>"
   ]
  },
  {
   "cell_type": "code",
   "execution_count": 28,
   "metadata": {},
   "outputs": [],
   "source": [
    "df=df.groupby('PostalCode')\n",
    "df_group=pd.DataFrame(columns=columns)\n",
    "lis=[]\n",
    "for i in df:\n",
    "     lis.append(pd.Series([i[0],i[1]['Borough'].values[0],', '.join(list(i[1]['Neighborhood']))], index=columns))\n",
    "    \n",
    "df_group=df_group.append(lis,ignore_index=True)"
   ]
  },
  {
   "cell_type": "markdown",
   "metadata": {},
   "source": [
    "<body>Print size</body>\n"
   ]
  },
  {
   "cell_type": "code",
   "execution_count": 30,
   "metadata": {},
   "outputs": [
    {
     "data": {
      "text/plain": [
       "103"
      ]
     },
     "execution_count": 30,
     "metadata": {},
     "output_type": "execute_result"
    }
   ],
   "source": [
    "df_group.shape[0]"
   ]
  },
  {
   "cell_type": "code",
   "execution_count": null,
   "metadata": {},
   "outputs": [],
   "source": []
  }
 ],
 "metadata": {
  "kernelspec": {
   "display_name": "Python 3",
   "language": "python",
   "name": "python3"
  },
  "language_info": {
   "codemirror_mode": {
    "name": "ipython",
    "version": 3
   },
   "file_extension": ".py",
   "mimetype": "text/x-python",
   "name": "python",
   "nbconvert_exporter": "python",
   "pygments_lexer": "ipython3",
   "version": "3.6.8"
  }
 },
 "nbformat": 4,
 "nbformat_minor": 2
}
